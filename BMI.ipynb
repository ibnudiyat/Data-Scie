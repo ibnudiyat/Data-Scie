{
 "cells": [
  {
   "cell_type": "code",
   "execution_count": 1,
   "metadata": {},
   "outputs": [
    {
     "name": "stdout",
     "output_type": "stream",
     "text": [
      "Hello ABDI. Welcome to our BMI calculation system\n"
     ]
    }
   ],
   "source": [
    "name = input (\"what is your name\")\n",
    "print(f'Hello {name}. Welcome to our BMI calculation system')"
   ]
  },
  {
   "cell_type": "code",
   "execution_count": 5,
   "metadata": {},
   "outputs": [
    {
     "name": "stdout",
     "output_type": "stream",
     "text": [
      "Provide us with the information below \n",
      "=======BMI Results ======\n",
      "Your BMI is 29.55\n",
      "overweight\n"
     ]
    }
   ],
   "source": [
    "print(\"Provide us with the information below \")\n",
    "Weight = float(input(\"Enter your wight in Kgs\"))\n",
    "Height = float(input(\"Enter your height in meters\"))\n",
    "\n",
    "BMI = round(Weight /(Height* Height), 2)\n",
    "print (\"=======BMI Results ======\")\n",
    "print(f'Your BMI is {BMI}')\n",
    "\n",
    "if BMI > 25 :\n",
    "    print (\"overweight\")\n",
    "elif BMI <18 :\n",
    "    print(\"underwight\")\n",
    "else:\n",
    "    print(\"Normal\")"
   ]
  },
  {
   "cell_type": "code",
   "execution_count": null,
   "metadata": {},
   "outputs": [],
   "source": []
  }
 ],
 "metadata": {
  "kernelspec": {
   "display_name": "learn-env",
   "language": "python",
   "name": "python3"
  },
  "language_info": {
   "codemirror_mode": {
    "name": "ipython",
    "version": 3
   },
   "file_extension": ".py",
   "mimetype": "text/x-python",
   "name": "python",
   "nbconvert_exporter": "python",
   "pygments_lexer": "ipython3",
   "version": "3.8.5"
  }
 },
 "nbformat": 4,
 "nbformat_minor": 2
}
